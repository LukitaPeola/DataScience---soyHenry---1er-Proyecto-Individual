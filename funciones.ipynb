{
 "cells": [
  {
   "cell_type": "markdown",
   "metadata": {},
   "source": [
    "Importo las librerías que necesito."
   ]
  },
  {
   "cell_type": "code",
   "execution_count": 162,
   "metadata": {},
   "outputs": [],
   "source": [
    "import pandas as pd\n",
    "import numpy as np \n",
    "import ast\n",
    "import os\n",
    "\n",
    "from sklearn.feature_extraction.text import TfidfVectorizer\n",
    "from sklearn.metrics.pairwise import cosine_similarity\n",
    "from sklearn.metrics.pairwise import linear_kernel\n",
    "from sklearn.neighbors import NearestNeighbors"
   ]
  },
  {
   "cell_type": "markdown",
   "metadata": {},
   "source": [
    "Traigo los DataFrame creados durante el ETL."
   ]
  },
  {
   "cell_type": "code",
   "execution_count": 83,
   "metadata": {},
   "outputs": [],
   "source": [
    "ruta_games = os.path.join(r'D:\\1er Proyecto\\datasets_finales\\games.parquet')\n",
    "df_games = pd.read_parquet(ruta_games)"
   ]
  },
  {
   "cell_type": "code",
   "execution_count": 84,
   "metadata": {},
   "outputs": [],
   "source": [
    "ruta_review = os.path.join(r'D:\\1er Proyecto\\datasets_finales\\reviews.parquet')\n",
    "df_review = pd.read_parquet(ruta_review)"
   ]
  },
  {
   "cell_type": "code",
   "execution_count": 85,
   "metadata": {},
   "outputs": [],
   "source": [
    "ruta_item = os.path.join(r'D:\\1er Proyecto\\datasets_finales\\user_items.parquet')\n",
    "df_item = pd.read_parquet(ruta_item)"
   ]
  },
  {
   "cell_type": "code",
   "execution_count": 178,
   "metadata": {},
   "outputs": [],
   "source": [
    "def developer(empresa: str, df=df_games):\n",
    "    # Convertir el nombre de la empresa a minúsculas para hacer la búsqueda insensible a mayúsculas y minúsculas\n",
    "    empresa = empresa.lower()\n",
    "    \n",
    "    # Filtrar el DataFrame por la empresa desarrolladora que contiene el nombre especificado\n",
    "    df_empresa = df[df['developer'].str.lower().str.contains(empresa)]\n",
    "    \n",
    "    # Verificar si hay datos para la empresa desarrolladora especificada\n",
    "    if df_empresa.empty:\n",
    "        print(f\"No hay datos disponibles para la empresa desarrolladora que contiene '{empresa}'.\")\n",
    "        return None\n",
    "        \n",
    "    # Agrupar por año\n",
    "    grouped = df_empresa.groupby('year')\n",
    "    \n",
    "    # Calcular cantidad de items y porcentaje de contenido Free por año\n",
    "    resultados = []\n",
    "    for year, group in grouped:\n",
    "        total_items = len(group)\n",
    "        free_items = len(group[group['price'] == 0])\n",
    "        porcentaje_free = (free_items / total_items) * 100 if total_items > 0 else 0\n",
    "        resultados.append({\n",
    "            'Año': year,\n",
    "            'Cantidad de Items': total_items,\n",
    "            'Porcentaje Free': porcentaje_free\n",
    "        })\n",
    "    \n",
    "    # Ordenar los resultados por año\n",
    "    resultados.sort(key=lambda x: x['Año'])\n",
    "    \n",
    "    return resultados"
   ]
  },
  {
   "cell_type": "code",
   "execution_count": 179,
   "metadata": {},
   "outputs": [
    {
     "data": {
      "text/plain": [
       "[{'Año': 1998, 'Cantidad de Items': 1, 'Porcentaje Free': 0.0},\n",
       " {'Año': 1999, 'Cantidad de Items': 1, 'Porcentaje Free': 0.0},\n",
       " {'Año': 2000, 'Cantidad de Items': 2, 'Porcentaje Free': 0.0},\n",
       " {'Año': 2001, 'Cantidad de Items': 1, 'Porcentaje Free': 0.0},\n",
       " {'Año': 2003, 'Cantidad de Items': 1, 'Porcentaje Free': 0.0},\n",
       " {'Año': 2004, 'Cantidad de Items': 5, 'Porcentaje Free': 0.0},\n",
       " {'Año': 2005, 'Cantidad de Items': 1, 'Porcentaje Free': 100.0},\n",
       " {'Año': 2006, 'Cantidad de Items': 2, 'Porcentaje Free': 0.0},\n",
       " {'Año': 2007, 'Cantidad de Items': 3, 'Porcentaje Free': 33.33333333333333},\n",
       " {'Año': 2008, 'Cantidad de Items': 1, 'Porcentaje Free': 0.0},\n",
       " {'Año': 2009, 'Cantidad de Items': 1, 'Porcentaje Free': 0.0},\n",
       " {'Año': 2010, 'Cantidad de Items': 2, 'Porcentaje Free': 50.0},\n",
       " {'Año': 2011, 'Cantidad de Items': 1, 'Porcentaje Free': 0.0},\n",
       " {'Año': 2012, 'Cantidad de Items': 2, 'Porcentaje Free': 50.0},\n",
       " {'Año': 2014, 'Cantidad de Items': 8, 'Porcentaje Free': 87.5},\n",
       " {'Año': 2015, 'Cantidad de Items': 1, 'Porcentaje Free': 100.0},\n",
       " {'Año': 2016, 'Cantidad de Items': 2, 'Porcentaje Free': 50.0},\n",
       " {'Año': 2017, 'Cantidad de Items': 2, 'Porcentaje Free': 0.0}]"
      ]
     },
     "execution_count": 179,
     "metadata": {},
     "output_type": "execute_result"
    }
   ],
   "source": [
    "#Ejemplo\n",
    "developer('valve')"
   ]
  },
  {
   "cell_type": "code",
   "execution_count": 94,
   "metadata": {},
   "outputs": [],
   "source": [
    "def userdata(user_name, df_games=df_games, df_items=df_item, df_reviews=df_review) -> dict:\n",
    "    #Identificación usuario\n",
    "    user_name = str(user_name)\n",
    "    #Obtener cantidad de items\n",
    "    user_items = df_items[df_items['user_id'] == user_name] #conexión de items de un usuario por su id\n",
    "    num_items = len(user_items['item_id'].unique())\n",
    "    #Obtención de dinero gastado\n",
    "    user_items_prices = user_items.merge(df_games, left_on='item_id', right_on='item_id', how='inner')\n",
    "    total_gastado = user_items_prices['price'].sum()\n",
    "    #Porcentaje de recomendación\n",
    "    user_reviews = df_reviews[df_reviews['user_id'] == user_name] #conexión de reviews de un usuario por su id\n",
    "    total_reviews = len(user_reviews)\n",
    "    positive_reviews = user_reviews[user_reviews['recommend']==1]\n",
    "    num_positive_reviews = len(positive_reviews)\n",
    "    if total_reviews != 0:\n",
    "        porcentaje_positive_reviews = (num_positive_reviews / total_reviews) * 100\n",
    "    else:\n",
    "        porcentaje_positive_reviews = 0\n",
    "    # Crear diccionario con la información\n",
    "    user_data = {\n",
    "        'Total gastado (USD)': total_gastado,\n",
    "        'Porcentaje de recomendación positiva': porcentaje_positive_reviews,\n",
    "        'Cantidad de juegos del usuario': num_items\n",
    "    }\n",
    "    return user_data"
   ]
  },
  {
   "cell_type": "code",
   "execution_count": 100,
   "metadata": {},
   "outputs": [
    {
     "data": {
      "text/plain": [
       "{'Total gastado (USD)': 360.58000000000004,\n",
       " 'Porcentaje de recomendación positiva': 77.77777777777779,\n",
       " 'Cantidad de juegos del usuario': 51}"
      ]
     },
     "execution_count": 100,
     "metadata": {},
     "output_type": "execute_result"
    }
   ],
   "source": [
    "#Ejemplo\n",
    "userdata('imsodonionringsrightnow')"
   ]
  },
  {
   "cell_type": "code",
   "execution_count": 121,
   "metadata": {},
   "outputs": [
    {
     "data": {
      "text/html": [
       "<div>\n",
       "<style scoped>\n",
       "    .dataframe tbody tr th:only-of-type {\n",
       "        vertical-align: middle;\n",
       "    }\n",
       "\n",
       "    .dataframe tbody tr th {\n",
       "        vertical-align: top;\n",
       "    }\n",
       "\n",
       "    .dataframe thead th {\n",
       "        text-align: right;\n",
       "    }\n",
       "</style>\n",
       "<table border=\"1\" class=\"dataframe\">\n",
       "  <thead>\n",
       "    <tr style=\"text-align: right;\">\n",
       "      <th></th>\n",
       "      <th>genres</th>\n",
       "      <th>item_id</th>\n",
       "      <th>year</th>\n",
       "    </tr>\n",
       "  </thead>\n",
       "  <tbody>\n",
       "    <tr>\n",
       "      <th>0</th>\n",
       "      <td>[[Action]]</td>\n",
       "      <td>10</td>\n",
       "      <td>2000</td>\n",
       "    </tr>\n",
       "    <tr>\n",
       "      <th>1</th>\n",
       "      <td>[[Indie]]</td>\n",
       "      <td>1002</td>\n",
       "      <td>2005</td>\n",
       "    </tr>\n",
       "    <tr>\n",
       "      <th>2</th>\n",
       "      <td>[[Animation &amp;amp,  Modeling]]</td>\n",
       "      <td>100400</td>\n",
       "      <td>2012</td>\n",
       "    </tr>\n",
       "    <tr>\n",
       "      <th>3</th>\n",
       "      <td>[[Action]]</td>\n",
       "      <td>10090</td>\n",
       "      <td>2008</td>\n",
       "    </tr>\n",
       "    <tr>\n",
       "      <th>4</th>\n",
       "      <td>[[Animation &amp;amp,  Modeling]]</td>\n",
       "      <td>100980</td>\n",
       "      <td>2012</td>\n",
       "    </tr>\n",
       "    <tr>\n",
       "      <th>...</th>\n",
       "      <td>...</td>\n",
       "      <td>...</td>\n",
       "      <td>...</td>\n",
       "    </tr>\n",
       "    <tr>\n",
       "      <th>23940</th>\n",
       "      <td>[[Action]]</td>\n",
       "      <td>9970</td>\n",
       "      <td>2011</td>\n",
       "    </tr>\n",
       "    <tr>\n",
       "      <th>23941</th>\n",
       "      <td>[[Casual,  Indie,  Strategy]]</td>\n",
       "      <td>99700</td>\n",
       "      <td>2011</td>\n",
       "    </tr>\n",
       "    <tr>\n",
       "      <th>23942</th>\n",
       "      <td>[[Casual]]</td>\n",
       "      <td>9980</td>\n",
       "      <td>2010</td>\n",
       "    </tr>\n",
       "    <tr>\n",
       "      <th>23943</th>\n",
       "      <td>[[Adventure,  Casual,  Free to Play,  Massivel...</td>\n",
       "      <td>99910</td>\n",
       "      <td>2011</td>\n",
       "    </tr>\n",
       "    <tr>\n",
       "      <th>23944</th>\n",
       "      <td>[[Action,  Adventure]]</td>\n",
       "      <td>9992</td>\n",
       "      <td>2011</td>\n",
       "    </tr>\n",
       "  </tbody>\n",
       "</table>\n",
       "<p>23945 rows × 3 columns</p>\n",
       "</div>"
      ],
      "text/plain": [
       "                                                  genres  item_id  year\n",
       "0                                             [[Action]]       10  2000\n",
       "1                                              [[Indie]]     1002  2005\n",
       "2                          [[Animation &amp,  Modeling]]   100400  2012\n",
       "3                                             [[Action]]    10090  2008\n",
       "4                          [[Animation &amp,  Modeling]]   100980  2012\n",
       "...                                                  ...      ...   ...\n",
       "23940                                         [[Action]]     9970  2011\n",
       "23941                      [[Casual,  Indie,  Strategy]]    99700  2011\n",
       "23942                                         [[Casual]]     9980  2010\n",
       "23943  [[Adventure,  Casual,  Free to Play,  Massivel...    99910  2011\n",
       "23944                             [[Action,  Adventure]]     9992  2011\n",
       "\n",
       "[23945 rows x 3 columns]"
      ]
     },
     "execution_count": 121,
     "metadata": {},
     "output_type": "execute_result"
    }
   ],
   "source": [
    "#Creo un DataFrame de géneros\n",
    "df_genres = df_games.copy()\n",
    "df_genres['genres'] = df_genres['genres'].apply(lambda x: x.split(',') if isinstance(x, str) else [])\n",
    "df_genres.drop(['name', 'tags','specs','price','developer'], axis=1)"
   ]
  },
  {
   "cell_type": "code",
   "execution_count": 128,
   "metadata": {},
   "outputs": [],
   "source": [
    "def UserForGenre(genero: str):\n",
    "  \n",
    "  genero = '[' + genero + ']'\n",
    "  \n",
    "  # Filtrar el DataFrame para dejar solo los juegos que contengan el género especificado\n",
    "  df_genre = df_genres[df_genres['genres'].apply(lambda x: genero in x if isinstance(x, list) else False)]\n",
    "\n",
    "  # Filtrar los usuarios que poseen los juegos del género específico\n",
    "  df_user_aggregated = df_item[df_item['item_id'].isin(df_genre['item_id'])]\n",
    "    \n",
    "  # Merge para concatenar el año de df_genre a df_user_aggregated basado en el item_id\n",
    "  df_user_aggregated = df_user_aggregated.merge(df_genre[['item_id', 'year']], on='item_id', how='left')\n",
    "    \n",
    "  # Calcular la suma de las horas jugadas por cada usuario a los juegos del género específico\n",
    "  user_hours_per_game = df_user_aggregated.groupby('user_id')['playtime_forever'].sum()\n",
    "    \n",
    "  # Obtener al usuario con más horas jugadas\n",
    "  user_most_hours_user_id = user_hours_per_game.idxmax()\n",
    "    \n",
    "  # Filtrar las horas jugadas por el usuario con más horas jugadas\n",
    "  user_most_hours_df = df_user_aggregated[df_user_aggregated['user_id'] == user_most_hours_user_id]\n",
    "    \n",
    "  # Calcular la cantidad de horas jugadas por año del usuario con más horas jugadas considerando el año de publicación del juego\n",
    "  hours_per_year = user_most_hours_df.groupby('year')['playtime_forever'].sum().reset_index()\n",
    "    \n",
    "  # Formatear el resultado en el formato especificado\n",
    "  result = {\n",
    "        \"Usuario con más horas jugadas para \" + genero: user_most_hours_user_id,\n",
    "        \"Horas jugadas\": [{\"Año\": int(row['year']), \"Horas\": int(row['playtime_forever'])} for index, row in hours_per_year.iterrows()]\n",
    "  }\n",
    "    \n",
    "  return result"
   ]
  },
  {
   "cell_type": "code",
   "execution_count": 135,
   "metadata": {},
   "outputs": [
    {
     "data": {
      "text/plain": [
       "{'Usuario con más horas jugadas para [Action]': 'Sp3ctre',\n",
       " 'Horas jugadas': [{'Año': 1999, 'Horas': 44},\n",
       "  {'Año': 2000, 'Horas': 70644},\n",
       "  {'Año': 2001, 'Horas': 13},\n",
       "  {'Año': 2002, 'Horas': 238},\n",
       "  {'Año': 2003, 'Horas': 7673},\n",
       "  {'Año': 2004, 'Horas': 127411},\n",
       "  {'Año': 2005, 'Horas': 21339},\n",
       "  {'Año': 2006, 'Horas': 652},\n",
       "  {'Año': 2007, 'Horas': 109611},\n",
       "  {'Año': 2009, 'Horas': 103589},\n",
       "  {'Año': 2010, 'Horas': 48437},\n",
       "  {'Año': 2011, 'Horas': 15092},\n",
       "  {'Año': 2012, 'Horas': 266977},\n",
       "  {'Año': 2013, 'Horas': 4860},\n",
       "  {'Año': 2014, 'Horas': 20717},\n",
       "  {'Año': 2015, 'Horas': 63380}]}"
      ]
     },
     "execution_count": 135,
     "metadata": {},
     "output_type": "execute_result"
    }
   ],
   "source": [
    "#Ejemplo\n",
    "UserForGenre('Action')"
   ]
  },
  {
   "cell_type": "code",
   "execution_count": 180,
   "metadata": {},
   "outputs": [],
   "source": [
    "def best_developer_year(año: int, games_df=df_games, reviews_df=df_review):\n",
    "    games_df.sort_values(by='item_id', ascending=False, inplace=True, ignore_index=True)\n",
    "    reviews_df.sort_values(by='item_id', ascending=False, inplace=True, ignore_index=True)\n",
    "    # Filtrar juegos por el año especificado\n",
    "    games_filtered = games_df[games_df['year'] == año]\n",
    "    # Merge juegos y reviews basado en 'id'\n",
    "    merged_df = pd.merge(games_filtered, reviews_df, left_on='item_id', right_on='item_id')\n",
    "    # Contar recomendaciones por desarrollador\n",
    "    developer_counts = merged_df[merged_df['recommend'] == 1]['developer'].value_counts().reset_index()\n",
    "    developer_counts.columns = ['Developer', 'Recommendations']\n",
    "    # Ordenar por número de recomendaciones y obtener los 3 primeros\n",
    "    sorted_developers = developer_counts.sort_values(by='Recommendations', ascending=False)\n",
    "    top_developers = sorted_developers.head(3)\n",
    "    # Formatear el resultado como una lista de diccionarios\n",
    "    result = [{\"Puesto {}: {}\".format(i+1, row['Developer']): row['Recommendations']} for i, row in top_developers.iterrows()]\n",
    "    return result"
   ]
  },
  {
   "cell_type": "code",
   "execution_count": 181,
   "metadata": {},
   "outputs": [
    {
     "data": {
      "text/plain": [
       "[{'Puesto 1:  Psyonix, Inc.': 207},\n",
       " {'Puesto 2:  Rockstar North': 188},\n",
       " {'Puesto 3:  tobyfox': 178}]"
      ]
     },
     "execution_count": 181,
     "metadata": {},
     "output_type": "execute_result"
    }
   ],
   "source": [
    "#Ejemplo\n",
    "best_developer_year(2015)"
   ]
  },
  {
   "cell_type": "code",
   "execution_count": 140,
   "metadata": {},
   "outputs": [],
   "source": [
    "def developer_reviews_analysis(desarrolladora: str, games_df=df_games, reviews_df=df_review):\n",
    "    games_df.sort_values(by='item_id', ascending=False, inplace=True, ignore_index=True)\n",
    "    reviews_df.sort_values(by='item_id', ascending=False, inplace=True, ignore_index=True)\n",
    "    # Merge juegos y reviews basado en 'id'\n",
    "    merged_df = pd.merge(games_df, reviews_df, left_on='item_id', right_on='item_id')\n",
    "    # Filtrar por la desarrolladora especificada\n",
    "    developer_filtered = merged_df[merged_df['developer'].str.strip().str.lower() == desarrolladora.lower()]\n",
    "    # Contar registros de reseñas categorizadas como análisis positivo o negativo\n",
    "    positive_count = len(developer_filtered[developer_filtered['sentiment_analysis'] == 2])\n",
    "    negative_count = len(developer_filtered[developer_filtered['sentiment_analysis'] == 0])\n",
    "    # Crear el diccionario de retorno\n",
    "    result = {desarrolladora: {'Negative': negative_count, 'Positive': positive_count}}\n",
    "    return result"
   ]
  },
  {
   "cell_type": "code",
   "execution_count": 141,
   "metadata": {},
   "outputs": [
    {
     "data": {
      "text/plain": [
       "{'Valve': {'Negative': 942, 'Positive': 4820}}"
      ]
     },
     "execution_count": 141,
     "metadata": {},
     "output_type": "execute_result"
    }
   ],
   "source": [
    "developer_reviews_analysis('Valve')"
   ]
  },
  {
   "cell_type": "markdown",
   "metadata": {},
   "source": [
    "Función recomendación de juegos\n",
    "\n",
    "El modelo deberá tener una relación ítem-ítem, esto es se toma un item, en base a que tan similar esa ese ítem al resto, se recomiendan similares. Aquí el input es un juego y el output es una lista de juegos recomendados, para ello aplicaré la similitud del coseno."
   ]
  },
  {
   "cell_type": "code",
   "execution_count": 168,
   "metadata": {},
   "outputs": [],
   "source": [
    "def recomendacion_juego(product_id: int):\n",
    "    tfidf_vectorizer = TfidfVectorizer(stop_words='english')\n",
    "    tfidf_matrix = tfidf_vectorizer.fit_transform(df_games['genres'])\n",
    "    \n",
    "    # Configurar el modelo \"Vecino más cercano\"\n",
    "    nn = NearestNeighbors(metric='cosine', algorithm='brute')\n",
    "    nn.fit(tfidf_matrix)\n",
    "    \n",
    "    # Obtener el índice del juego actual\n",
    "    juego_index = df_games[df_games['item_id'] == product_id].index[0]\n",
    "    \n",
    "    # Encontrar los índices de los 5 juegos más similares\n",
    "    distances, indices = nn.kneighbors(tfidf_matrix[juego_index], n_neighbors=6)\n",
    "    \n",
    "    # Excluir el propio juego de los resultados\n",
    "    similar_indices = indices.flatten()[1:]\n",
    "    \n",
    "    # Obtener los nombres de los juegos similares\n",
    "    juegos_similares = df_games.iloc[similar_indices]['name'].values\n",
    "    \n",
    "    # Obtener el nombre del juego actual\n",
    "    juego_actual = df_games.loc[df_games['item_id'] == product_id, 'name'].iloc[0]\n",
    "    \n",
    "    # Crear el resultado en el formato especificado\n",
    "    resultado = {\n",
    "        \"Juego actual\": juego_actual,\n",
    "        \"Juegos recomendados similares\": list(juegos_similares)\n",
    "    }\n",
    "    \n",
    "    return resultado"
   ]
  },
  {
   "cell_type": "code",
   "execution_count": 177,
   "metadata": {},
   "outputs": [
    {
     "data": {
      "text/plain": [
       "{'Juego actual': ' Worms Revolution Season Pass',\n",
       " 'Juegos recomendados similares': [' Elven Legacy: Ranger',\n",
       "  ' Worms Reloaded: Time Attack Pack',\n",
       "  ' Worms Reloaded: Forts Pack',\n",
       "  ' Elven Legacy: Siege',\n",
       "  ' Worms Reloaded: Puzzle Pack']}"
      ]
     },
     "execution_count": 177,
     "metadata": {},
     "output_type": "execute_result"
    }
   ],
   "source": [
    "recomendacion_juego(2028056)"
   ]
  }
 ],
 "metadata": {
  "kernelspec": {
   "display_name": "Python 3",
   "language": "python",
   "name": "python3"
  },
  "language_info": {
   "codemirror_mode": {
    "name": "ipython",
    "version": 3
   },
   "file_extension": ".py",
   "mimetype": "text/x-python",
   "name": "python",
   "nbconvert_exporter": "python",
   "pygments_lexer": "ipython3",
   "version": "3.10.5"
  }
 },
 "nbformat": 4,
 "nbformat_minor": 2
}
